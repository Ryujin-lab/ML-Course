{
 "cells": [
  {
   "cell_type": "code",
   "execution_count": 1,
   "metadata": {},
   "outputs": [],
   "source": [
    "import numpy as n\n",
    "import math\n",
    "import glob\n",
    "import cv2 as cv\n",
    "import matplotlib.pyplot as plt\n",
    "from PIL import Image"
   ]
  },
  {
   "cell_type": "markdown",
   "metadata": {},
   "source": [
    "### Membentuk Matriks Co-occurence\n",
    "\n",
    "Membentuk matriks co-occurence 0, 45, 90, dan 135 derajat berdasarkan gray-level dari citra."
   ]
  },
  {
   "cell_type": "code",
   "execution_count": 2,
   "metadata": {},
   "outputs": [],
   "source": [
    "def co_occurence(citra, rentang, derajat):\n",
    "    matrixCO = n.zeros([rentang+1,rentang+1])\n",
    "    p,l = citra.shape\n",
    "    if(derajat == 0):\n",
    "        for i in range (rentang+1):\n",
    "            for j in range (rentang+1):\n",
    "                jml = 0\n",
    "                for x in range (p):\n",
    "                    for y in range (l-1):\n",
    "                        if(citra[x][y]==i and citra[x][y+1]==j):\n",
    "                            jml += 1\n",
    "                        if(citra[x][y]==j and citra[x][y+1]==i):\n",
    "                            jml += 1\n",
    "                matrixCO[i][j] = jml\n",
    "    \n",
    "    elif (derajat == 45):\n",
    "        for i in range (rentang+1):\n",
    "            for j in range (rentang+1):\n",
    "                jml = 0\n",
    "                for x in range (p-1):\n",
    "                    for y in range (1,l):\n",
    "                        if(citra[x][y]==i and citra[x+1][y-1]==j):\n",
    "                            jml += 1\n",
    "                        if(citra[x][y]==j and citra[x+1][y-1]==i):\n",
    "                            jml += 1\n",
    "                matrixCO[i][j] = jml\n",
    "                \n",
    "    elif (derajat == 90):\n",
    "        for i in range (rentang+1):\n",
    "            for j in range (rentang+1):\n",
    "                jml = 0\n",
    "                for x in range (p-1):\n",
    "                    for y in range (l):\n",
    "                        if(citra[x][y]==i and citra[x+1][y]==j):\n",
    "                            jml += 1\n",
    "                        if(citra[x][y]==j and citra[x+1][y]==i):\n",
    "                            jml += 1\n",
    "                matrixCO[i][j] = jml\n",
    "    \n",
    "    elif (derajat == 135):\n",
    "        for i in range (rentang+1):\n",
    "            for j in range (rentang+1):\n",
    "                jml = 0\n",
    "                for x in range (p-1):\n",
    "                    for y in range (l-1):\n",
    "                        if(citra[x][y]==i and citra[x+1][y+1]==j):\n",
    "                            jml += 1\n",
    "                        if(citra[x][y]==j and citra[x+1][y+1]==i):\n",
    "                            jml += 1\n",
    "                matrixCO[i][j] = jml\n",
    "                \n",
    "    return matrixCO"
   ]
  },
  {
   "cell_type": "markdown",
   "metadata": {},
   "source": [
    "### Membentuk matriks GLCM\n",
    "\n",
    "Melakukan transpose matriks co-occurence dan menjumlahkan hasilnya dengan matriks co-occurence awal."
   ]
  },
  {
   "cell_type": "code",
   "execution_count": 3,
   "metadata": {},
   "outputs": [],
   "source": [
    "def transpose(array):\n",
    "    p,l = array.shape\n",
    "    trans = n.zeros([p,l])\n",
    "    for i in range (p):\n",
    "        for j in range (l):\n",
    "            trans[i][j] = array[j][i]\n",
    "    return trans\n",
    "def sumUp(a,b):\n",
    "    p,l = a.shape\n",
    "    hasilJumlah = n.zeros([p,l])\n",
    "    for i in range (p):\n",
    "        for j in range (l):\n",
    "            hasilJumlah[i][j] = a[i][j] + b[i][j]\n",
    "    return hasilJumlah"
   ]
  },
  {
   "cell_type": "markdown",
   "metadata": {},
   "source": [
    "### Normalisasi\n",
    "\n",
    "Mendapatkan matriks GLCM yang sudah dinormalisasi."
   ]
  },
  {
   "cell_type": "code",
   "execution_count": 4,
   "metadata": {},
   "outputs": [],
   "source": [
    "def normalisasi(array):\n",
    "    p,l = array.shape\n",
    "    hasilJumlah = 0\n",
    "    for i in range (p):\n",
    "        for j in range (l):\n",
    "            hasilJumlah += array[i][j]\n",
    "#     print (hasilJumlah)\n",
    "    for i in range (p):\n",
    "        for j in range (l):\n",
    "            array[i][j] = array[i][j] / hasilJumlah\n",
    "    return array\n",
    "def getGLCM(citra, derajat):\n",
    "    co = co_occurence(citra,n.amax(citra),derajat)\n",
    "    transpose_co = transpose(co)\n",
    "    simetris = sumUp(co,transpose_co)\n",
    "    normal = normalisasi(simetris)\n",
    "    return normal"
   ]
  },
  {
   "cell_type": "markdown",
   "metadata": {},
   "source": [
    "### Ekstraksi Fitur GLCM\n",
    "\n",
    "Fungsi-fungsi perhitungan fitur-fitur GLCM yaitu kontras, homogenitas, entropi, dan energi citra."
   ]
  },
  {
   "cell_type": "code",
   "execution_count": 5,
   "metadata": {},
   "outputs": [],
   "source": [
    "def hitungKontras(array):\n",
    "    p,l = array.shape\n",
    "    kontras = n.zeros([p,l])\n",
    "    for i in range (p):\n",
    "        for j in range (l):\n",
    "            kontras[i][j] = array[i][j] * (pow((i-j),2))\n",
    "    contrast = 0\n",
    "    for i in range (p):\n",
    "        for j in range (l):\n",
    "            contrast += kontras[i][j]\n",
    "    return contrast\n",
    "def hitungHomogenitas(array):\n",
    "    p,l = array.shape\n",
    "    hg = n.zeros([p,l])\n",
    "    for i in range (p):\n",
    "        for j in range (l):\n",
    "            hg[i][j] = array[i][j] / (1+((i-j)*(i-j)))\n",
    "    homogen = 0\n",
    "    for i in range (p):\n",
    "        for j in range (l):\n",
    "            homogen += hg[i][j]\n",
    "    return homogen\n",
    "def hitungEntropi(array):\n",
    "    p,l = array.shape\n",
    "    ent = n.zeros([p,l])\n",
    "    for i in range (p):\n",
    "        for j in range (l):\n",
    "            if(array[i][j]!=0):\n",
    "                ent[i][j] = -(array[i][j] * (math.log(array[i][j])))\n",
    "#     print(ent)\n",
    "    entropy = 0\n",
    "    for i in range (p):\n",
    "        for j in range (l):\n",
    "            entropy += ent[i][j]\n",
    "    return entropy\n",
    "def hitungEnergi(array):\n",
    "    p,l = array.shape\n",
    "    eng = n.zeros([p,l])\n",
    "    for i in range (p):\n",
    "        for j in range (l):\n",
    "            eng[i][j] = pow(array[i][j],2)\n",
    "#     print(eng)\n",
    "    energy = 0\n",
    "    for i in range (p):\n",
    "        for j in range (l):\n",
    "            energy += eng[i][j]\n",
    "    return energy"
   ]
  },
  {
   "cell_type": "markdown",
   "metadata": {},
   "source": [
    "### Mendapatkan keseluruhan fitur"
   ]
  },
  {
   "cell_type": "code",
   "execution_count": 38,
   "metadata": {},
   "outputs": [],
   "source": [
    "def ekstraksiFitur(matriks):\n",
    "    baris = n.zeros([4])\n",
    "    baris[0] = hitungKontras(matriks)\n",
    "    baris[1] = hitungHomogenitas(matriks)\n",
    "    baris[2] = hitungEntropi(matriks)\n",
    "    baris[3] = hitungEnergi(matriks)\n",
    "    return baris\n",
    "import csv\n",
    "def insertoCsv(data):\n",
    "    row = data;\n",
    "    with open('GLCM_Covid.csv', 'a', newline='') as csvFile:\n",
    "        writer = csv.writer(csvFile)\n",
    "        writer.writerow(row)\n",
    "#   print(\"succes\")\n",
    "        csvFile.close()"
   ]
  },
  {
   "cell_type": "markdown",
   "metadata": {},
   "source": [
    "### Mendapatkan semua fitur dari masing-masing gambar"
   ]
  },
  {
   "cell_type": "code",
   "execution_count": 47,
   "metadata": {},
   "outputs": [],
   "source": [
    "def ekstraksiData(data, label):\n",
    "    iterasi = 0\n",
    "    for image0 in data:\n",
    "        glcm0 = getGLCM(image0,0)\n",
    "        glcm45 = getGLCM(image0,45)\n",
    "        glcm90 = getGLCM(image0,90)\n",
    "        glcm135 = getGLCM(image0,135)  \n",
    "        fitur0 = ekstraksiFitur(glcm0)\n",
    "        fitur45 = ekstraksiFitur(glcm45)\n",
    "        fitur90 = ekstraksiFitur(glcm90)\n",
    "        fitur135 = ekstraksiFitur(glcm135)\n",
    "        fitur = [label, fitur0[0], fitur0[1], fitur0[2], fitur0[3], fitur45[0], fitur45[1], fitur45[2], fitur45[3], fitur90[0],fitur90[1],fitur90[2],fitur90[3], fitur135[0],fitur135[1],fitur135[2],fitur135[3]]\n",
    "#         print(fitur)\n",
    "        insertoCsv(fitur)\n",
    "#         iterasi+=1"
   ]
  },
  {
   "cell_type": "markdown",
   "metadata": {},
   "source": [
    "## Load Data dan mengekstrak masing-masing fitur GLCM-nya"
   ]
  },
  {
   "cell_type": "code",
   "execution_count": 52,
   "metadata": {},
   "outputs": [],
   "source": [
    "data = []\n",
    "for filename in glob.glob('Covid*.png'):\n",
    "#     imageObject = Image.open(filename).convert('L')\n",
    "#     newsize = (128,128)\n",
    "#     a = imageObject.resize(newsize)\n",
    "    imgg = cv.imread(filename)\n",
    "    a = cv.resize (imgg, (128,128))\n",
    "    img = cv.cvtColor(a,cv.COLOR_BGR2GRAY)\n",
    "    image = n.array(img)\n",
    "    p,l = image.shape\n",
    "    for i in range(p):\n",
    "        for j in range (l):\n",
    "            image[i][j] /= 16\n",
    "    data.append(image)\n",
    "ekstraksiData(data,1)"
   ]
  },
  {
   "cell_type": "code",
   "execution_count": 53,
   "metadata": {},
   "outputs": [],
   "source": [
    "data = []\n",
    "for filename in glob.glob('NonCovid*.png'):\n",
    "#     imageObject = Image.open(filename).convert('L')\n",
    "#     newsize = (128,128)\n",
    "#     a = imageObject.resize(newsize)\n",
    "    imgg = cv.imread(filename)\n",
    "    a = cv.resize (imgg, (128,128))\n",
    "    img = cv.cvtColor(a,cv.COLOR_BGR2GRAY)\n",
    "    image = n.array(img)\n",
    "    p,l = image.shape\n",
    "    for i in range(p):\n",
    "        for j in range (l):\n",
    "            image[i][j] /= 16\n",
    "    data.append(image)\n",
    "ekstraksiData(data,0)"
   ]
  },
  {
   "cell_type": "code",
   "execution_count": null,
   "metadata": {},
   "outputs": [],
   "source": []
  }
 ],
 "metadata": {
  "kernelspec": {
   "display_name": "Python 3",
   "language": "python",
   "name": "python3"
  },
  "language_info": {
   "codemirror_mode": {
    "name": "ipython",
    "version": 3
   },
   "file_extension": ".py",
   "mimetype": "text/x-python",
   "name": "python",
   "nbconvert_exporter": "python",
   "pygments_lexer": "ipython3",
   "version": "3.7.3"
  }
 },
 "nbformat": 4,
 "nbformat_minor": 2
}
