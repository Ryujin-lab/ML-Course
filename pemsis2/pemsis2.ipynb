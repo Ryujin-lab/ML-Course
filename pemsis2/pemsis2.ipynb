{
 "metadata": {
  "language_info": {
   "codemirror_mode": {
    "name": "ipython",
    "version": 3
   },
   "file_extension": ".py",
   "mimetype": "text/x-python",
   "name": "python",
   "nbconvert_exporter": "python",
   "pygments_lexer": "ipython3",
   "version": "3.8.3-final"
  },
  "orig_nbformat": 2,
  "kernelspec": {
   "name": "python3",
   "display_name": "Python 3",
   "language": "python"
  }
 },
 "nbformat": 4,
 "nbformat_minor": 2,
 "cells": [
  {
   "cell_type": "code",
   "execution_count": 4,
   "metadata": {},
   "outputs": [],
   "source": [
    "import numpy as np"
   ]
  },
  {
   "cell_type": "code",
   "execution_count": 5,
   "metadata": {},
   "outputs": [],
   "source": [
    "# state table\n",
    "state_table = np.array([[0.6,0.4],[0.8,0.2]])"
   ]
  },
  {
   "cell_type": "code",
   "execution_count": 30,
   "metadata": {},
   "outputs": [],
   "source": [
    "class Pday :\n",
    "    def __init__ (self, state_table, n):\n",
    "        self.state_table = state_table\n",
    "        self.n = n\n",
    "    def setState(self, state_table):\n",
    "        self.state_table = state_table\n",
    "    def setN(self, n):\n",
    "        self.n = n\n",
    "    def calc(self, confMatrix):\n",
    "        res = confMatrix\n",
    "        for i in range (1,self.n):\n",
    "            res = np.matmul(res , state_table)\n",
    "            print(\"day \",i+1,\": \", res)\n",
    "        return res"
   ]
  },
  {
   "cell_type": "code",
   "execution_count": 32,
   "metadata": {},
   "outputs": [
    {
     "output_type": "stream",
     "name": "stdout",
     "text": [
      "day  2 :  [0.6 0.4]\nday  3 :  [0.68 0.32]\nday  4 :  [0.664 0.336]\n"
     ]
    }
   ],
   "source": [
    "cal = Pday(state_table, 4)\n",
    "res = cal.calc(np.array([1,0]))"
   ]
  },
  {
   "cell_type": "code",
   "execution_count": null,
   "metadata": {},
   "outputs": [],
   "source": []
  }
 ]
}