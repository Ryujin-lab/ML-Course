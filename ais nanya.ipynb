{
 "metadata": {
  "language_info": {
   "codemirror_mode": {
    "name": "ipython",
    "version": 3
   },
   "file_extension": ".py",
   "mimetype": "text/x-python",
   "name": "python",
   "nbconvert_exporter": "python",
   "pygments_lexer": "ipython3",
   "version": "3.8.3"
  },
  "orig_nbformat": 2,
  "kernelspec": {
   "name": "python383jvsc74a57bd09cfab2369ecfb524e9caafcfa38c668509648eae2d8b470a1f2a16ab976ba956",
   "display_name": "Python 3.8.3 64-bit ('base': conda)"
  },
  "metadata": {
   "interpreter": {
    "hash": "9cfab2369ecfb524e9caafcfa38c668509648eae2d8b470a1f2a16ab976ba956"
   }
  }
 },
 "nbformat": 4,
 "nbformat_minor": 2,
 "cells": [
  {
   "cell_type": "code",
   "execution_count": 1,
   "metadata": {},
   "outputs": [],
   "source": [
    "import numpy as np"
   ]
  },
  {
   "cell_type": "code",
   "execution_count": 2,
   "metadata": {},
   "outputs": [
    {
     "output_type": "execute_result",
     "data": {
      "text/plain": [
       "array([[10],\n",
       "       [20],\n",
       "       [30],\n",
       "       [40],\n",
       "       [50],\n",
       "       [60]])"
      ]
     },
     "metadata": {},
     "execution_count": 2
    }
   ],
   "source": [
    "a = np.array([\n",
    "    [10],\n",
    "    [20],\n",
    "    [30],\n",
    "    [40],\n",
    "    [50],\n",
    "    [60]\n",
    "])\n",
    "a"
   ]
  },
  {
   "cell_type": "code",
   "execution_count": 10,
   "metadata": {},
   "outputs": [
    {
     "output_type": "execute_result",
     "data": {
      "text/plain": [
       "array([[10, 10, 10, 10, 10, 10, 10, 10],\n",
       "       [20, 20, 20, 20, 20, 20, 20, 20],\n",
       "       [30, 30, 30, 30, 30, 30, 30, 30],\n",
       "       [40, 40, 40, 40, 40, 40, 40, 40],\n",
       "       [50, 50, 50, 50, 50, 50, 50, 50],\n",
       "       [60, 60, 60, 60, 60, 60, 60, 60]])"
      ]
     },
     "metadata": {},
     "execution_count": 10
    }
   ],
   "source": [
    "np.pad(a, ((0,0),(0,7)), mode=\"edge\")"
   ]
  },
  {
   "cell_type": "code",
   "execution_count": 14,
   "metadata": {},
   "outputs": [],
   "source": [
    "b = a.copy()\n",
    "for i in range (7):\n",
    "    b = np.hstack((b,a))"
   ]
  },
  {
   "cell_type": "code",
   "execution_count": 15,
   "metadata": {},
   "outputs": [
    {
     "output_type": "execute_result",
     "data": {
      "text/plain": [
       "array([[10, 10, 10, 10, 10, 10, 10, 10],\n",
       "       [20, 20, 20, 20, 20, 20, 20, 20],\n",
       "       [30, 30, 30, 30, 30, 30, 30, 30],\n",
       "       [40, 40, 40, 40, 40, 40, 40, 40],\n",
       "       [50, 50, 50, 50, 50, 50, 50, 50],\n",
       "       [60, 60, 60, 60, 60, 60, 60, 60]])"
      ]
     },
     "metadata": {},
     "execution_count": 15
    }
   ],
   "source": [
    "b"
   ]
  },
  {
   "cell_type": "code",
   "execution_count": 16,
   "metadata": {},
   "outputs": [],
   "source": [
    "b = a.copy()\n",
    "for i in range (7):\n",
    "    b = np.concatenate((b,a), axis=1)"
   ]
  },
  {
   "cell_type": "code",
   "execution_count": 17,
   "metadata": {},
   "outputs": [
    {
     "output_type": "execute_result",
     "data": {
      "text/plain": [
       "array([[10, 10, 10, 10, 10, 10, 10, 10],\n",
       "       [20, 20, 20, 20, 20, 20, 20, 20],\n",
       "       [30, 30, 30, 30, 30, 30, 30, 30],\n",
       "       [40, 40, 40, 40, 40, 40, 40, 40],\n",
       "       [50, 50, 50, 50, 50, 50, 50, 50],\n",
       "       [60, 60, 60, 60, 60, 60, 60, 60]])"
      ]
     },
     "metadata": {},
     "execution_count": 17
    }
   ],
   "source": [
    "b"
   ]
  },
  {
   "cell_type": "code",
   "execution_count": null,
   "metadata": {},
   "outputs": [],
   "source": []
  }
 ]
}