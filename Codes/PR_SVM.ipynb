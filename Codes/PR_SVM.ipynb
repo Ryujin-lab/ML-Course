{
 "cells": [
  {
   "cell_type": "code",
   "execution_count": 1,
   "metadata": {},
   "outputs": [],
   "source": [
    "import pandas as pd\n",
    "import numpy as np\n",
    "\n",
    "# Packages untuk visualisasi\n",
    "import matplotlib.pyplot as plt\n",
    "import seaborn as sns; sns.set(font_scale=1.2)"
   ]
  },
  {
   "cell_type": "markdown",
   "metadata": {},
   "source": [
    "# LOAD DAN MENAMPILKAN DATASET"
   ]
  },
  {
   "cell_type": "code",
   "execution_count": 6,
   "metadata": {
    "scrolled": true
   },
   "outputs": [
    {
     "data": {
      "text/html": [
       "<div>\n",
       "<style scoped>\n",
       "    .dataframe tbody tr th:only-of-type {\n",
       "        vertical-align: middle;\n",
       "    }\n",
       "\n",
       "    .dataframe tbody tr th {\n",
       "        vertical-align: top;\n",
       "    }\n",
       "\n",
       "    .dataframe thead th {\n",
       "        text-align: right;\n",
       "    }\n",
       "</style>\n",
       "<table border=\"1\" class=\"dataframe\">\n",
       "  <thead>\n",
       "    <tr style=\"text-align: right;\">\n",
       "      <th></th>\n",
       "      <th>label</th>\n",
       "      <th>CONTRAST0</th>\n",
       "      <th>HOMOGENITY0</th>\n",
       "      <th>ENTROPY0</th>\n",
       "      <th>ENERGY0</th>\n",
       "      <th>CONTRAST45</th>\n",
       "      <th>HOMOGENITY45</th>\n",
       "      <th>ENTROPY45</th>\n",
       "      <th>ENERGY45</th>\n",
       "      <th>CONTRAST90</th>\n",
       "      <th>HOMOGENITY90</th>\n",
       "      <th>ENTROPY90</th>\n",
       "      <th>ENERGY90</th>\n",
       "      <th>CONTRAST135</th>\n",
       "      <th>HOMOGENITY135</th>\n",
       "      <th>ENTROPY135</th>\n",
       "      <th>ENERGY135</th>\n",
       "    </tr>\n",
       "  </thead>\n",
       "  <tbody>\n",
       "    <tr>\n",
       "      <th>0</th>\n",
       "      <td>1</td>\n",
       "      <td>4.552288</td>\n",
       "      <td>0.644010</td>\n",
       "      <td>3.614979</td>\n",
       "      <td>0.064522</td>\n",
       "      <td>5.095604</td>\n",
       "      <td>0.625877</td>\n",
       "      <td>3.652356</td>\n",
       "      <td>0.061951</td>\n",
       "      <td>2.174151</td>\n",
       "      <td>0.688930</td>\n",
       "      <td>3.455847</td>\n",
       "      <td>0.070650</td>\n",
       "      <td>5.091636</td>\n",
       "      <td>0.630201</td>\n",
       "      <td>3.652590</td>\n",
       "      <td>0.062272</td>\n",
       "    </tr>\n",
       "    <tr>\n",
       "      <th>1</th>\n",
       "      <td>1</td>\n",
       "      <td>3.300935</td>\n",
       "      <td>0.784967</td>\n",
       "      <td>3.011608</td>\n",
       "      <td>0.173187</td>\n",
       "      <td>5.322401</td>\n",
       "      <td>0.753999</td>\n",
       "      <td>3.127794</td>\n",
       "      <td>0.164812</td>\n",
       "      <td>4.346580</td>\n",
       "      <td>0.770280</td>\n",
       "      <td>3.072447</td>\n",
       "      <td>0.168263</td>\n",
       "      <td>5.823920</td>\n",
       "      <td>0.748377</td>\n",
       "      <td>3.145396</td>\n",
       "      <td>0.163226</td>\n",
       "    </tr>\n",
       "    <tr>\n",
       "      <th>2</th>\n",
       "      <td>1</td>\n",
       "      <td>3.328125</td>\n",
       "      <td>0.785723</td>\n",
       "      <td>2.971865</td>\n",
       "      <td>0.182995</td>\n",
       "      <td>5.372869</td>\n",
       "      <td>0.754217</td>\n",
       "      <td>3.086182</td>\n",
       "      <td>0.175032</td>\n",
       "      <td>4.362943</td>\n",
       "      <td>0.770463</td>\n",
       "      <td>3.032681</td>\n",
       "      <td>0.178490</td>\n",
       "      <td>5.849836</td>\n",
       "      <td>0.751010</td>\n",
       "      <td>3.097675</td>\n",
       "      <td>0.173615</td>\n",
       "    </tr>\n",
       "    <tr>\n",
       "      <th>3</th>\n",
       "      <td>1</td>\n",
       "      <td>3.432579</td>\n",
       "      <td>0.786071</td>\n",
       "      <td>2.945866</td>\n",
       "      <td>0.189870</td>\n",
       "      <td>5.390663</td>\n",
       "      <td>0.755853</td>\n",
       "      <td>3.051266</td>\n",
       "      <td>0.182225</td>\n",
       "      <td>4.253875</td>\n",
       "      <td>0.774015</td>\n",
       "      <td>2.994296</td>\n",
       "      <td>0.186306</td>\n",
       "      <td>5.711513</td>\n",
       "      <td>0.754291</td>\n",
       "      <td>3.060028</td>\n",
       "      <td>0.181271</td>\n",
       "    </tr>\n",
       "    <tr>\n",
       "      <th>4</th>\n",
       "      <td>1</td>\n",
       "      <td>3.374446</td>\n",
       "      <td>0.779573</td>\n",
       "      <td>2.947369</td>\n",
       "      <td>0.200533</td>\n",
       "      <td>5.000062</td>\n",
       "      <td>0.755515</td>\n",
       "      <td>3.034623</td>\n",
       "      <td>0.194259</td>\n",
       "      <td>3.779897</td>\n",
       "      <td>0.774639</td>\n",
       "      <td>2.965557</td>\n",
       "      <td>0.198529</td>\n",
       "      <td>5.296671</td>\n",
       "      <td>0.753300</td>\n",
       "      <td>3.043882</td>\n",
       "      <td>0.192846</td>\n",
       "    </tr>\n",
       "  </tbody>\n",
       "</table>\n",
       "</div>"
      ],
      "text/plain": [
       "   label  CONTRAST0  HOMOGENITY0  ENTROPY0   ENERGY0  CONTRAST45  \\\n",
       "0      1   4.552288     0.644010  3.614979  0.064522    5.095604   \n",
       "1      1   3.300935     0.784967  3.011608  0.173187    5.322401   \n",
       "2      1   3.328125     0.785723  2.971865  0.182995    5.372869   \n",
       "3      1   3.432579     0.786071  2.945866  0.189870    5.390663   \n",
       "4      1   3.374446     0.779573  2.947369  0.200533    5.000062   \n",
       "\n",
       "   HOMOGENITY45  ENTROPY45  ENERGY45  CONTRAST90  HOMOGENITY90  ENTROPY90  \\\n",
       "0      0.625877   3.652356  0.061951    2.174151      0.688930   3.455847   \n",
       "1      0.753999   3.127794  0.164812    4.346580      0.770280   3.072447   \n",
       "2      0.754217   3.086182  0.175032    4.362943      0.770463   3.032681   \n",
       "3      0.755853   3.051266  0.182225    4.253875      0.774015   2.994296   \n",
       "4      0.755515   3.034623  0.194259    3.779897      0.774639   2.965557   \n",
       "\n",
       "   ENERGY90  CONTRAST135  HOMOGENITY135  ENTROPY135  ENERGY135  \n",
       "0  0.070650     5.091636       0.630201    3.652590   0.062272  \n",
       "1  0.168263     5.823920       0.748377    3.145396   0.163226  \n",
       "2  0.178490     5.849836       0.751010    3.097675   0.173615  \n",
       "3  0.186306     5.711513       0.754291    3.060028   0.181271  \n",
       "4  0.198529     5.296671       0.753300    3.043882   0.192846  "
      ]
     },
     "execution_count": 6,
     "metadata": {},
     "output_type": "execute_result"
    }
   ],
   "source": [
    "ctcovid = pd.read_csv(\"GLCM_Covid.csv\");\n",
    "ctcovid.head()"
   ]
  },
  {
   "cell_type": "code",
   "execution_count": 5,
   "metadata": {},
   "outputs": [],
   "source": [
    "data = np.array(ctcovid[['CONTRAST0','HOMOGENITY0','ENTROPY0','ENERGY0','CONTRAST45','HOMOGENITY45','ENTROPY45','ENERGY45','CONTRAST90','HOMOGENITY90','ENTROPY90','ENERGY90','CONTRAST135','HOMOGENITY135','ENTROPY135','ENERGY135']])\n",
    "label = np.array(ctcovid['label'])"
   ]
  },
  {
   "cell_type": "markdown",
   "metadata": {},
   "source": [
    "# MEMERIKSA DATA"
   ]
  },
  {
   "cell_type": "markdown",
   "metadata": {},
   "source": [
    "melakukan pemeriksaan jika terdapat record / field yang\n",
    "tidak layak dipakai, seperti record / field yang bernilai NaN atau field\n",
    "yang berbentuk kategori "
   ]
  },
  {
   "cell_type": "code",
   "execution_count": 4,
   "metadata": {},
   "outputs": [
    {
     "name": "stdout",
     "output_type": "stream",
     "text": [
      "<class 'pandas.core.frame.DataFrame'>\n",
      "RangeIndex: 200 entries, 0 to 199\n",
      "Data columns (total 17 columns):\n",
      "label            200 non-null int64\n",
      "CONTRAST0        200 non-null float64\n",
      "HOMOGENITY0      200 non-null float64\n",
      "ENTROPY0         200 non-null float64\n",
      "ENERGY0          200 non-null float64\n",
      "CONTRAST45       200 non-null float64\n",
      "HOMOGENITY45     200 non-null float64\n",
      "ENTROPY45        200 non-null float64\n",
      "ENERGY45         200 non-null float64\n",
      "CONTRAST90       200 non-null float64\n",
      "HOMOGENITY90     200 non-null float64\n",
      "ENTROPY90        200 non-null float64\n",
      "ENERGY90         200 non-null float64\n",
      "CONTRAST135      200 non-null float64\n",
      "HOMOGENITY135    200 non-null float64\n",
      "ENTROPY135       200 non-null float64\n",
      "ENERGY135        200 non-null float64\n",
      "dtypes: float64(16), int64(1)\n",
      "memory usage: 26.6 KB\n"
     ]
    }
   ],
   "source": [
    "ctcovid.info()"
   ]
  },
  {
   "cell_type": "markdown",
   "metadata": {},
   "source": [
    "# PCA"
   ]
  },
  {
   "cell_type": "markdown",
   "metadata": {},
   "source": [
    "algoritma PCA di-coding menjadi fungsi dengan Input features vektor yang akan ditransformasikan (dt) dan jumlah eigen yang dipilih (nEigen). nEigen sangat menentukan dalam PCA karena features vektor input (m dimensi) akan direduksi menjadi nEgien dimensi."
   ]
  },
  {
   "cell_type": "code",
   "execution_count": 7,
   "metadata": {},
   "outputs": [],
   "source": [
    "from numpy import linalg as LA"
   ]
  },
  {
   "cell_type": "code",
   "execution_count": 11,
   "metadata": {},
   "outputs": [],
   "source": [
    "def myPCA(data,nEigen):\n",
    "    #1 Def global mean, mu\n",
    "    mu=np.mean(data,axis=0)\n",
    "\n",
    "    #2. Determine diff=dt-mu\n",
    "    nR=data.shape[0] #get row size \n",
    "    diff=np.array(data) #makes a copy\n",
    "    for i in range (nR):\n",
    "        diff[i,:]=diff[i,:]-mu\n",
    "        \n",
    "    #3. Get Covariance Matrix, S    \n",
    "    A=np.transpose(data)@data  #Matrix multiplication\n",
    "\n",
    "    #4. Get Eigen\n",
    "    w, v = LA.eig(A)\n",
    "\n",
    "    #5. get W\n",
    "    idx=np.argsort(-w)\n",
    "    Ww=v[:,idx[0:nEigen]]\n",
    "    \n",
    "    #6. Projection\n",
    "    dP=diff@Ww\n",
    "    \n",
    "    return mu, Ww, dP;"
   ]
  },
  {
   "cell_type": "markdown",
   "metadata": {},
   "source": [
    "Sebelum proses klasifikasi data input (dt), dt dikurangi jumlah dimensinya menggunakan fungsi PCA diatas . selanjutnya sebaran data digambarkan kedalam ruang 3 dimensi dan 2 dimensi dengan code berikut maka diperoleh hasil sebaran sbb:"
   ]
  },
  {
   "cell_type": "code",
   "execution_count": 12,
   "metadata": {},
   "outputs": [
    {
     "data": {
      "image/png": "[encoded data removed]",
      "text/plain": [
       "<Figure size 432x288 with 2 Axes>"
      ]
     },
     "metadata": {
      "needs_background": "light"
     },
     "output_type": "display_data"
    }
   ],
   "source": [
    "#1. Dimensional Reduction\n",
    "mu, Ww, dP=myPCA(data,2)\n",
    "\n",
    "#2. plot the data in 3D space\n",
    "from mpl_toolkits.mplot3d import Axes3D\n",
    "#Show the plot of Projection \n",
    "#Initialize the plot\n",
    "fig = plt.figure()\n",
    "ax1 = fig.add_subplot(121, projection='3d')\n",
    "ax2 = fig.add_subplot(122)\n",
    "\n",
    "# Plot the data\n",
    "\n",
    "#class 1\n",
    "idx = np.where(label == 0)\n",
    "t0=data[idx[0],:]\n",
    "ax1.scatter(t0[:,0],t0[:,1],t0[:,2], color='darkgreen', marker='^')\n",
    "t=dP[idx[0],:]\n",
    "ax2.scatter(t[:,0],t[:,1],color='darkgreen', marker='^')\n",
    "\n",
    "#class 2\n",
    "idx = np.where(label == 1)\n",
    "t0=data[idx[0],:]\n",
    "ax1.scatter(t0[:,0],t0[:,1],t0[:,2], color='red', marker='o')\n",
    "t=dP[idx[0],:]\n",
    "ax2.scatter(t[:,0],t[:,1],color='red', marker='o')\n",
    "\n",
    "#unknown class\n",
    "tQ=[3.432579,0.786071,2.945866,0.189870,5.390663,0.755853,3.051266,0.182225,4.253875,0.774015,2.994296,0.186306,5.711513,0.754291,3.060028,0.181271]\n",
    "ax1.scatter(tQ[0],tQ[1],tQ[2], color='yellow', marker='*')\n",
    "\n",
    "tQP=(tQ-mu)@Ww\n",
    "ax2.scatter(tQP[0],tQP[1], color='yellow', marker='*')\n",
    "\n",
    "# Show the plot\n",
    "plt.show()"
   ]
  },
  {
   "cell_type": "markdown",
   "metadata": {},
   "source": [
    "# KLASIFIKASI SVM"
   ]
  },
  {
   "cell_type": "code",
   "execution_count": 13,
   "metadata": {},
   "outputs": [],
   "source": [
    "from sklearn.model_selection import train_test_split\n",
    "from sklearn.svm import LinearSVC\n",
    "from sklearn.metrics import classification_report, confusion_matrix\n",
    "from sklearn.metrics import accuracy_score"
   ]
  },
  {
   "cell_type": "code",
   "execution_count": 17,
   "metadata": {},
   "outputs": [
    {
     "name": "stdout",
     "output_type": "stream",
     "text": [
      "              precision    recall  f1-score   support\n",
      "\n",
      "           0       0.64      0.76      0.69       100\n",
      "           1       0.70      0.57      0.63       100\n",
      "\n",
      "    accuracy                           0.67       200\n",
      "   macro avg       0.67      0.67      0.66       200\n",
      "weighted avg       0.67      0.67      0.66       200\n",
      "\n",
      "confusion matiksnya sebagai berikut :  \n",
      " [[76 24]\n",
      " [43 57]]\n",
      "accuracy is  0.665\n"
     ]
    },
    {
     "name": "stderr",
     "output_type": "stream",
     "text": [
      "C:\\Users\\ASUS\\Anaconda3\\lib\\site-packages\\sklearn\\svm\\base.py:929: ConvergenceWarning: Liblinear failed to converge, increase the number of iterations.\n",
      "  \"the number of iterations.\", ConvergenceWarning)\n"
     ]
    }
   ],
   "source": [
    "\n",
    "def generateClassificationReport(y_test,y_pred):\n",
    "    print(classification_report(y_test,y_pred))\n",
    "    print(\"confusion matiksnya sebagai berikut :  \\n\",confusion_matrix(y_test,y_pred))    \n",
    "    print('accuracy is ',accuracy_score(y_test,y_pred))\n",
    "# Create support vector classifier\n",
    "SVC_Classifier = LinearSVC(C=1)\n",
    "# Train model\n",
    "SVC_Classifier.fit(dP,label)\n",
    "#Prediction\n",
    "y_pred = SVC_Classifier.predict(dP)\n",
    "generateClassificationReport(label,y_pred)"
   ]
  },
  {
   "cell_type": "markdown",
   "metadata": {},
   "source": [
    "menggambarkan matriks dalam ruang data yang kita miliki :"
   ]
  },
  {
   "cell_type": "code",
   "execution_count": 21,
   "metadata": {},
   "outputs": [],
   "source": [
    "h = .02\n",
    "x_min, x_max = dP[:, 0].min() - 1, dP[:, 0].max() + 1\n",
    "y_min, y_max = dP[:, 1].min() - 1, dP[:, 1].max() + 1\n",
    "xx, yy = np.meshgrid(np.arange(x_min, x_max, h),\n",
    "                     np.arange(y_min, y_max, h))"
   ]
  },
  {
   "cell_type": "code",
   "execution_count": 22,
   "metadata": {},
   "outputs": [],
   "source": [
    "#Predict the mesh of data using SVM\n",
    "Z =  SVC_Classifier.predict(np.c_[xx.ravel(),  yy.ravel()])\n",
    "Z = Z.reshape(xx.shape)"
   ]
  },
  {
   "cell_type": "code",
   "execution_count": 24,
   "metadata": {},
   "outputs": [
    {
     "data": {
      "image/png": "[encoded data removed]",
      "text/plain": [
       "<Figure size 432x288 with 1 Axes>"
      ]
     },
     "metadata": {
      "needs_background": "light"
     },
     "output_type": "display_data"
    }
   ],
   "source": [
    "#Visualize the classification line of Linear SVM\n",
    "#Show the plot of Projection \n",
    "#Initialize the plot\n",
    "fig = plt.figure()\n",
    "ax2 = fig.add_subplot(122)\n",
    "\n",
    "# Plot the data\n",
    "\n",
    "#class 1\n",
    "idx = np.where(label == 0)\n",
    "t=dP[idx[0],:]\n",
    "ax2.scatter(t[:,0],t[:,1],color='blue', marker='^')\n",
    "\n",
    "#class 2\n",
    "idx = np.where(label == 1)\n",
    "t=dP[idx[0],:]\n",
    "ax2.scatter(t[:,0],t[:,1],color='red', marker='o')\n",
    "\n",
    "#unknown class\n",
    "tQ=[3.432579,0.786071,2.945866,0.189870,5.390663,0.755853,3.051266,0.182225,4.253875,0.774015,2.994296,0.186306,5.711513,0.754291,3.060028,0.181271]\n",
    "tQP=(tQ-mu)@Ww\n",
    "ax2.scatter(tQP[0],tQP[1], color='yellow', marker='*')\n",
    "plt.contour(xx, yy, Z)\n",
    "# Show the plot\n",
    "plt.show()"
   ]
  },
  {
   "cell_type": "markdown",
   "metadata": {},
   "source": [
    "klasifikasi data tQ=[3.432579,0.786071,2.945866,0.189870,5.390663,0.755853,3.051266,0.182225,4.253875,0.774015,2.994296,0.186306,5.711513,0.754291,3.060028,0.181271] dengan menggunakan model SVM yang sudah diperoleh sebelumnya dengan cara :"
   ]
  },
  {
   "cell_type": "code",
   "execution_count": 26,
   "metadata": {},
   "outputs": [
    {
     "name": "stdout",
     "output_type": "stream",
     "text": [
      "data baru dikenali sebagai :  [1]\n"
     ]
    }
   ],
   "source": [
    "prediksi = SVC_Classifier.predict(tQP.reshape(1,-1))\n",
    "print(\"data baru dikenali sebagai : \", prediksi)"
   ]
  }
 ],
 "metadata": {
  "kernelspec": {
   "display_name": "Python 3",
   "language": "python",
   "name": "python3"
  },
  "language_info": {
   "codemirror_mode": {
    "name": "ipython",
    "version": 3
   },
   "file_extension": ".py",
   "mimetype": "text/x-python",
   "name": "python",
   "nbconvert_exporter": "python",
   "pygments_lexer": "ipython3",
   "version": "3.7.3"
  }
 },
 "nbformat": 4,
 "nbformat_minor": 2
}
