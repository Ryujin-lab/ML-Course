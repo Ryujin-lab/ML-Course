{
 "metadata": {
  "language_info": {
   "codemirror_mode": {
    "name": "ipython",
    "version": 3
   },
   "file_extension": ".py",
   "mimetype": "text/x-python",
   "name": "python",
   "nbconvert_exporter": "python",
   "pygments_lexer": "ipython3",
   "version": "3.8.3"
  },
  "orig_nbformat": 2,
  "kernelspec": {
   "name": "python383jvsc74a57bd09cfab2369ecfb524e9caafcfa38c668509648eae2d8b470a1f2a16ab976ba956",
   "display_name": "Python 3.8.3 64-bit ('base': conda)"
  },
  "metadata": {
   "interpreter": {
    "hash": "9cfab2369ecfb524e9caafcfa38c668509648eae2d8b470a1f2a16ab976ba956"
   }
  }
 },
 "nbformat": 4,
 "nbformat_minor": 2,
 "cells": [
  {
   "cell_type": "code",
   "execution_count": 14,
   "metadata": {},
   "outputs": [],
   "source": [
    "import numpy as np\n",
    "import cv2\n",
    "import matplotlib.image as pli\n",
    "import matplotlib.pyplot as plt\n",
    "import math"
   ]
  },
  {
   "cell_type": "code",
   "execution_count": 23,
   "metadata": {},
   "outputs": [],
   "source": [
    "class GLCM():\n",
    "    def __init__ (self, image, level):\n",
    "        self.image = image\n",
    "        self.level = level\n",
    "        self.glcm = None\n",
    "        self.symetric = None\n",
    "        self.norm_symetric = None\n",
    "        self.miu = None\n",
    "        self.sigm = None\n",
    "    \n",
    "    def calc_glcm(self):\n",
    "        self.glcm = np.zeros([self.level,self.level], dtype = int)\n",
    "        for i in range (self.image.shape[0]):\n",
    "            for j in range (self.image.shape[1]-1):\n",
    "                # print(j,i)\n",
    "                print(self.image[i,j], self.image[i,j+1])\n",
    "                self.glcm[self.image[i,j], self.image[i,j+1]] += 1\n",
    "\n",
    "    def calc_symetric(self):\n",
    "        self.calc_glcm()\n",
    "        self.symetric = self.glcm + np.transpose(self.glcm)\n",
    "\n",
    "    def calc_norm_symetric(self):\n",
    "        self.calc_symetric()\n",
    "        self.norm_symetric = self.symetric / np.sum(self.symetric)\n",
    "        self.miu = np.sum(self.norm_symetric)\n",
    "        self.sigm = 0\n",
    "        for i in range(self.norm_symetric.shape[0]):\n",
    "            self.sigm += math.pow(i-self.miu, 2)\n",
    "\n",
    "    def dissimilarity(self):\n",
    "        self.calc_norm_symetric\n",
    "        res = 0\n",
    "        for i in range(self.norm_symetric.shape[0]):\n",
    "            for j in range(self.norm_symetric.shape[1]):\n",
    "                res += self.norm_symetric[i,j] * abs(i-j)\n",
    "\n",
    "                \n",
    "    def correlation(self):\n",
    "        self.calc_norm_symetric\n",
    "        res = 0\n",
    "        for i in range(self.norm_symetric.shape[0]):\n",
    "            for j in range(self.norm_symetric.shape[1]):\n",
    "                res += (( i-self.miu )*(j-self.miu)) / self.sigm\n",
    "        return res\n",
    "\n",
    "\n",
    "    def homogeneity(self):\n",
    "        self.calc_norm_symetric\n",
    "        res = 0\n",
    "        for i in range(self.norm_symetric.shape[0]):\n",
    "            for j in range(self.norm_symetric.shape[1]):\n",
    "                res += self.norm_symetric[i,j] / (1 + math.pow(i-j,2))\n",
    "        return res\n",
    "        \n",
    "\n",
    "    def contrast(self):\n",
    "        self.calc_norm_symetric\n",
    "        res = 0\n",
    "        for i in range(self.norm_symetric.shape[0]):\n",
    "            for j in range(self.norm_symetric.shape[1]):\n",
    "                res += self.norm_symetric[i,j] * math.pow(i-j,2)\n",
    "        return res\n",
    "\n",
    "    def asm(self):\n",
    "        self.calc_norm_symetric\n",
    "        res = 0\n",
    "        for i in range(self.norm_symetric.shape[0]):\n",
    "            for j in range(self.norm_symetric.shape[1]):\n",
    "                res += math.pow(i-j,2)\n",
    "        return res\n",
    "\n",
    "    def energy(self):\n",
    "        return math.sqrt(self.asm())\n"
   ]
  },
  {
   "cell_type": "code",
   "execution_count": 24,
   "metadata": {},
   "outputs": [],
   "source": [
    "# dissimilarity, correlation, homogeneity, contrast, ASM, energy."
   ]
  },
  {
   "cell_type": "code",
   "execution_count": 25,
   "metadata": {},
   "outputs": [
    {
     "output_type": "stream",
     "name": "stdout",
     "text": [
      "4.0\n4\n2.0\n"
     ]
    }
   ],
   "source": [
    "matrix = np.array ([\n",
    "    [0,0,1],\n",
    "    [1,2,3],\n",
    "    [2,3,2]\n",
    "])\n",
    "l = 4\n",
    "\n",
    "print(math.pow(2,2))\n",
    "print(abs(2-6))\n",
    "print(math.sqrt(4))\n"
   ]
  },
  {
   "cell_type": "code",
   "execution_count": 26,
   "metadata": {},
   "outputs": [],
   "source": [
    "glcm = GLCM(matrix, l)"
   ]
  },
  {
   "cell_type": "code",
   "execution_count": 27,
   "metadata": {},
   "outputs": [
    {
     "output_type": "stream",
     "name": "stdout",
     "text": [
      "0 0\n0 1\n1 2\n2 3\n2 3\n3 2\n"
     ]
    },
    {
     "output_type": "execute_result",
     "data": {
      "text/plain": [
       "array([[0.16666667, 0.08333333, 0.        , 0.        ],\n",
       "       [0.08333333, 0.        , 0.08333333, 0.        ],\n",
       "       [0.        , 0.08333333, 0.        , 0.25      ],\n",
       "       [0.        , 0.        , 0.25      , 0.        ]])"
      ]
     },
     "metadata": {},
     "execution_count": 27
    }
   ],
   "source": [
    "glcm.calc_norm_symetric()\n",
    "glcm.norm_symetric"
   ]
  },
  {
   "cell_type": "code",
   "execution_count": null,
   "metadata": {},
   "outputs": [],
   "source": []
  }
 ]
}