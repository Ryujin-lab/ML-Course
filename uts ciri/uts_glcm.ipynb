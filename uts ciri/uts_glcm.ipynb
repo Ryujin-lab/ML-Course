{
 "metadata": {
  "language_info": {
   "codemirror_mode": {
    "name": "ipython",
    "version": 3
   },
   "file_extension": ".py",
   "mimetype": "text/x-python",
   "name": "python",
   "nbconvert_exporter": "python",
   "pygments_lexer": "ipython3",
   "version": "3.8.3"
  },
  "orig_nbformat": 2,
  "kernelspec": {
   "name": "python383jvsc74a57bd09cfab2369ecfb524e9caafcfa38c668509648eae2d8b470a1f2a16ab976ba956",
   "display_name": "Python 3.8.3 64-bit ('base': conda)"
  },
  "metadata": {
   "interpreter": {
    "hash": "9cfab2369ecfb524e9caafcfa38c668509648eae2d8b470a1f2a16ab976ba956"
   }
  }
 },
 "nbformat": 4,
 "nbformat_minor": 2,
 "cells": [
  {
   "cell_type": "code",
   "execution_count": 4,
   "metadata": {},
   "outputs": [],
   "source": [
    "import numpy as np \n",
    "import seaborn as sb\n",
    "import matplotlib.pyplot as plt\n",
    "import cv2 \n",
    "import os\n",
    "import re\n",
    "from scipy import ndimage as ndi\n"
   ]
  },
  {
   "cell_type": "code",
   "execution_count": 5,
   "metadata": {},
   "outputs": [],
   "source": [
    "def normalize_label(str_):\n",
    "    str_ = str_.replace(\" \", \"\")\n",
    "    str_ = str_.translate(str_.maketrans(\"\",\"\", \"()\"))\n",
    "    str_ = str_.split(\"_\")\n",
    "    return ''.join(str_[:2])\n",
    "\n",
    "def normalize_desc(folder, sub_folder):\n",
    "    text = folder + \" - \" + sub_folder \n",
    "    text = re.sub(r'\\d+', '', text)\n",
    "    text = text.replace(\".\", \"\")\n",
    "    text = text.strip()\n",
    "    return text\n",
    "\n",
    "def print_progress(val, val_len, sub_folder, filename, bar_size=10):\n",
    "    progr = \"#\"*round((val)*bar_size/val_len) + \" \"*round((val_len - (val))*bar_size/val_len)\n",
    "    if val == 0:\n",
    "        print(\"\", end = \"\\n\")\n",
    "    else:\n",
    "        print(\"[%s] folder : %s/ ----> file : %s\" % (progr, sub_folder, filename), end=\"\\r\")"
   ]
  },
  {
   "cell_type": "code",
   "execution_count": 7,
   "metadata": {},
   "outputs": [
    {
     "output_type": "stream",
     "name": "stdout",
     "text": [
      "\n",
      "[##########] folder : covid/ ----> file : COVID-2451.png\n",
      "\n"
     ]
    }
   ],
   "source": [
    "dataset_dir = \"balanced_datasets/\" \n",
    "\n",
    "imgs = [] #list image matrix \n",
    "labels = []\n",
    "img_ids = []\n",
    "descs = []\n",
    "for sub_folder in os.listdir(dataset_dir):\n",
    "    sub_folder_files = os.listdir(os.path.join(dataset_dir, sub_folder))\n",
    "    len_sub_folder = len(sub_folder_files) - 1\n",
    "    for i, filename in enumerate(sub_folder_files):\n",
    "        img = cv2.imread(os.path.join(dataset_dir, sub_folder, filename))\n",
    "        \n",
    "        gray = cv2.cvtColor(img, cv2.COLOR_BGR2GRAY)\n",
    "\n",
    "        resize = cv2.resize(gray,(150, 150), interpolation = cv2.INTER_AREA )\n",
    "\n",
    "        retval, label, centers = cv2.kmeans (\n",
    "            resize.flatten().astype(\"float32\"), \n",
    "            2, \n",
    "            None, \n",
    "            (cv2.TERM_CRITERIA_EPS + cv2.TERM_CRITERIA_MAX_ITER, 100, 0.90), \n",
    "            10,cv2.KMEANS_PP_CENTERS)\n",
    "\n",
    "        if (centers[0,0]>centers[1,0]):\n",
    "            centers[0,0],centers[1,0] = centers[1,0],centers[0,0]\n",
    "            label = 1-label\n",
    "\n",
    "        segment = np.array(label.reshape(resize.shape))\n",
    "        segment_not = cv2.bitwise_not(segment)\n",
    "        fill_lungs = np.array(ndi.binary_fill_holes(segment), dtype=int )\n",
    "        gabung = cv2.bitwise_and(segment_not, fill_lungs)\n",
    "        mask = np.array(ndi.binary_fill_holes(gabung), dtype=int )\n",
    "        segment_res = (resize * mask)\n",
    "\n",
    "        imgs.append(segment_res)\n",
    "        labels.append(normalize_label(sub_folder))\n",
    "        img_ids.append(filename)\n",
    "\n",
    "        # descs.append(normalize_desc(folder, sub_folder))\n",
    "        \n",
    "        print_progress(i, len_sub_folder, sub_folder, filename)"
   ]
  },
  {
   "cell_type": "code",
   "execution_count": 8,
   "metadata": {},
   "outputs": [],
   "source": [
    "from skimage.feature import greycomatrix, greycoprops\n",
    "\n",
    "def calc_glcm_all_agls(img, label, img_id, props, dists=[5], agls=[0, np.pi/4, np.pi/2, 3*np.pi/4], lvl=256, sym=True, norm=True):\n",
    "    \n",
    "    glcm = greycomatrix(img, \n",
    "                        distances=dists, \n",
    "                        angles=agls, \n",
    "                        levels=lvl,\n",
    "                        symmetric=sym, \n",
    "                        normed=norm)\n",
    "    feature = []\n",
    "    feature.append(img_id) \n",
    "    glcm_props = [propery for name in props for propery in greycoprops(glcm, name)[0]]\n",
    "    for item in glcm_props:\n",
    "        feature.append(item)\n",
    "    feature.append(label) \n",
    "\n",
    "    # //someting to do with image down here, add glcm power of \n",
    "    \n",
    "    return feature"
   ]
  },
  {
   "cell_type": "code",
   "execution_count": 9,
   "metadata": {},
   "outputs": [],
   "source": [
    "properties = ['dissimilarity', 'correlation', 'homogeneity', 'contrast', 'ASM', 'energy']\n",
    "\n",
    "glcm_all_agls = []\n",
    "for img, label,img_id in zip(imgs, labels, img_ids): \n",
    "    glcm_all_agls.append(\n",
    "        calc_glcm_all_agls(img, \n",
    "                        label,\n",
    "                        img_id,\n",
    "                        props=properties)\n",
    "    )\n",
    " "
   ]
  },
  {
   "cell_type": "code",
   "execution_count": 10,
   "metadata": {},
   "outputs": [],
   "source": [
    "columns = []\n",
    "angles = ['0', '45', '90','135']\n",
    "columns.append(\"img_ids\")\n",
    "for name in properties :\n",
    "    for ang in angles:\n",
    "        columns.append(name + \"_\" + ang)\n",
    "columns.append(\"label\")"
   ]
  },
  {
   "cell_type": "code",
   "execution_count": 11,
   "metadata": {},
   "outputs": [],
   "source": [
    "import pandas as pd \n",
    "\n",
    "# Create the pandas DataFrame for GLCM features data\n",
    "glcm_df = pd.DataFrame(glcm_all_agls, \n",
    "                      columns = columns)\n"
   ]
  },
  {
   "cell_type": "code",
   "execution_count": 12,
   "metadata": {},
   "outputs": [
    {
     "output_type": "execute_result",
     "data": {
      "text/plain": [
       "          img_ids  dissimilarity_0  dissimilarity_45  dissimilarity_90  \\\n",
       "0   COVID-679.png        14.447172         14.489445         11.473655   \n",
       "1  COVID-1452.png         1.439264          1.383374          0.940276   \n",
       "2  COVID-1310.png         0.460046          0.469413          0.406529   \n",
       "3  COVID-2634.png         0.062437          0.055780          0.054667   \n",
       "4   COVID-271.png        10.834207         10.272096          6.622897   \n",
       "5  COVID-2412.png        15.034621         14.265153          9.659678   \n",
       "6  COVID-1617.png         2.038529          1.778992          1.371356   \n",
       "\n",
       "   dissimilarity_135  correlation_0  correlation_45  correlation_90  \\\n",
       "0          14.630278       0.643208        0.654827        0.737768   \n",
       "1           1.302308       0.229263        0.269788        0.494109   \n",
       "2           0.399512      -0.001565       -0.001597        0.115583   \n",
       "3           0.055780      -0.000184       -0.000164       -0.000161   \n",
       "4          10.186996       0.573416        0.608316        0.756229   \n",
       "5          14.294145       0.689171        0.715214        0.813883   \n",
       "6           1.809955       0.065211        0.126443        0.296754   \n",
       "\n",
       "   correlation_135  homogeneity_0  ...  contrast_135     ASM_0    ASM_45  \\\n",
       "0         0.652007       0.664490  ...   1255.602130  0.419953  0.413782   \n",
       "1         0.315837       0.987147  ...    161.309720  0.974149  0.974367   \n",
       "2         0.150568       0.996874  ...     58.612310  0.993758  0.993631   \n",
       "3        -0.000164       0.999632  ...      9.474620  0.999265  0.999343   \n",
       "4         0.611782       0.838845  ...   1096.656971  0.697555  0.698763   \n",
       "5         0.714238       0.753376  ...   1812.775943  0.542669  0.541731   \n",
       "6         0.110729       0.984202  ...    241.166119  0.968534  0.971685   \n",
       "\n",
       "     ASM_90   ASM_135  energy_0  energy_45  energy_90  energy_135  label  \n",
       "0  0.437067  0.411191  0.648038   0.643259   0.661111    0.641242  covid  \n",
       "1  0.978419  0.974923  0.986990   0.987100   0.989151    0.987382  covid  \n",
       "2  0.994124  0.994098  0.996874   0.996810   0.997058    0.997045  covid  \n",
       "3  0.999356  0.999343  0.999632   0.999672   0.999678    0.999672  covid  \n",
       "4  0.725766  0.698998  0.835198   0.835920   0.851919    0.836061  covid  \n",
       "5  0.572107  0.540485  0.736661   0.736024   0.756378    0.735177  covid  \n",
       "6  0.975511  0.971408  0.984141   0.985741   0.987680    0.985600  covid  \n",
       "\n",
       "[7 rows x 26 columns]"
      ],
      "text/html": "<div>\n<style scoped>\n    .dataframe tbody tr th:only-of-type {\n        vertical-align: middle;\n    }\n\n    .dataframe tbody tr th {\n        vertical-align: top;\n    }\n\n    .dataframe thead th {\n        text-align: right;\n    }\n</style>\n<table border=\"1\" class=\"dataframe\">\n  <thead>\n    <tr style=\"text-align: right;\">\n      <th></th>\n      <th>img_ids</th>\n      <th>dissimilarity_0</th>\n      <th>dissimilarity_45</th>\n      <th>dissimilarity_90</th>\n      <th>dissimilarity_135</th>\n      <th>correlation_0</th>\n      <th>correlation_45</th>\n      <th>correlation_90</th>\n      <th>correlation_135</th>\n      <th>homogeneity_0</th>\n      <th>...</th>\n      <th>contrast_135</th>\n      <th>ASM_0</th>\n      <th>ASM_45</th>\n      <th>ASM_90</th>\n      <th>ASM_135</th>\n      <th>energy_0</th>\n      <th>energy_45</th>\n      <th>energy_90</th>\n      <th>energy_135</th>\n      <th>label</th>\n    </tr>\n  </thead>\n  <tbody>\n    <tr>\n      <th>0</th>\n      <td>COVID-679.png</td>\n      <td>14.447172</td>\n      <td>14.489445</td>\n      <td>11.473655</td>\n      <td>14.630278</td>\n      <td>0.643208</td>\n      <td>0.654827</td>\n      <td>0.737768</td>\n      <td>0.652007</td>\n      <td>0.664490</td>\n      <td>...</td>\n      <td>1255.602130</td>\n      <td>0.419953</td>\n      <td>0.413782</td>\n      <td>0.437067</td>\n      <td>0.411191</td>\n      <td>0.648038</td>\n      <td>0.643259</td>\n      <td>0.661111</td>\n      <td>0.641242</td>\n      <td>covid</td>\n    </tr>\n    <tr>\n      <th>1</th>\n      <td>COVID-1452.png</td>\n      <td>1.439264</td>\n      <td>1.383374</td>\n      <td>0.940276</td>\n      <td>1.302308</td>\n      <td>0.229263</td>\n      <td>0.269788</td>\n      <td>0.494109</td>\n      <td>0.315837</td>\n      <td>0.987147</td>\n      <td>...</td>\n      <td>161.309720</td>\n      <td>0.974149</td>\n      <td>0.974367</td>\n      <td>0.978419</td>\n      <td>0.974923</td>\n      <td>0.986990</td>\n      <td>0.987100</td>\n      <td>0.989151</td>\n      <td>0.987382</td>\n      <td>covid</td>\n    </tr>\n    <tr>\n      <th>2</th>\n      <td>COVID-1310.png</td>\n      <td>0.460046</td>\n      <td>0.469413</td>\n      <td>0.406529</td>\n      <td>0.399512</td>\n      <td>-0.001565</td>\n      <td>-0.001597</td>\n      <td>0.115583</td>\n      <td>0.150568</td>\n      <td>0.996874</td>\n      <td>...</td>\n      <td>58.612310</td>\n      <td>0.993758</td>\n      <td>0.993631</td>\n      <td>0.994124</td>\n      <td>0.994098</td>\n      <td>0.996874</td>\n      <td>0.996810</td>\n      <td>0.997058</td>\n      <td>0.997045</td>\n      <td>covid</td>\n    </tr>\n    <tr>\n      <th>3</th>\n      <td>COVID-2634.png</td>\n      <td>0.062437</td>\n      <td>0.055780</td>\n      <td>0.054667</td>\n      <td>0.055780</td>\n      <td>-0.000184</td>\n      <td>-0.000164</td>\n      <td>-0.000161</td>\n      <td>-0.000164</td>\n      <td>0.999632</td>\n      <td>...</td>\n      <td>9.474620</td>\n      <td>0.999265</td>\n      <td>0.999343</td>\n      <td>0.999356</td>\n      <td>0.999343</td>\n      <td>0.999632</td>\n      <td>0.999672</td>\n      <td>0.999678</td>\n      <td>0.999672</td>\n      <td>covid</td>\n    </tr>\n    <tr>\n      <th>4</th>\n      <td>COVID-271.png</td>\n      <td>10.834207</td>\n      <td>10.272096</td>\n      <td>6.622897</td>\n      <td>10.186996</td>\n      <td>0.573416</td>\n      <td>0.608316</td>\n      <td>0.756229</td>\n      <td>0.611782</td>\n      <td>0.838845</td>\n      <td>...</td>\n      <td>1096.656971</td>\n      <td>0.697555</td>\n      <td>0.698763</td>\n      <td>0.725766</td>\n      <td>0.698998</td>\n      <td>0.835198</td>\n      <td>0.835920</td>\n      <td>0.851919</td>\n      <td>0.836061</td>\n      <td>covid</td>\n    </tr>\n    <tr>\n      <th>5</th>\n      <td>COVID-2412.png</td>\n      <td>15.034621</td>\n      <td>14.265153</td>\n      <td>9.659678</td>\n      <td>14.294145</td>\n      <td>0.689171</td>\n      <td>0.715214</td>\n      <td>0.813883</td>\n      <td>0.714238</td>\n      <td>0.753376</td>\n      <td>...</td>\n      <td>1812.775943</td>\n      <td>0.542669</td>\n      <td>0.541731</td>\n      <td>0.572107</td>\n      <td>0.540485</td>\n      <td>0.736661</td>\n      <td>0.736024</td>\n      <td>0.756378</td>\n      <td>0.735177</td>\n      <td>covid</td>\n    </tr>\n    <tr>\n      <th>6</th>\n      <td>COVID-1617.png</td>\n      <td>2.038529</td>\n      <td>1.778992</td>\n      <td>1.371356</td>\n      <td>1.809955</td>\n      <td>0.065211</td>\n      <td>0.126443</td>\n      <td>0.296754</td>\n      <td>0.110729</td>\n      <td>0.984202</td>\n      <td>...</td>\n      <td>241.166119</td>\n      <td>0.968534</td>\n      <td>0.971685</td>\n      <td>0.975511</td>\n      <td>0.971408</td>\n      <td>0.984141</td>\n      <td>0.985741</td>\n      <td>0.987680</td>\n      <td>0.985600</td>\n      <td>covid</td>\n    </tr>\n  </tbody>\n</table>\n<p>7 rows × 26 columns</p>\n</div>"
     },
     "metadata": {},
     "execution_count": 12
    }
   ],
   "source": [
    "glcm_df.head(7)"
   ]
  },
  {
   "cell_type": "code",
   "execution_count": 13,
   "metadata": {},
   "outputs": [],
   "source": [
    "#save to csv\n",
    "glcm_df.to_csv(\"segmentated_data.csv\")\n"
   ]
  },
  {
   "cell_type": "code",
   "execution_count": null,
   "metadata": {},
   "outputs": [],
   "source": []
  }
 ]
}